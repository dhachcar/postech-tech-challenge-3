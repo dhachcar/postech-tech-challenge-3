{
  "nbformat": 4,
  "nbformat_minor": 0,
  "metadata": {
    "colab": {
      "provenance": []
    },
    "kernelspec": {
      "name": "python3",
      "display_name": "Python 3"
    },
    "language_info": {
      "name": "python"
    }
  },
  "cells": [
    {
      "cell_type": "markdown",
      "source": [
        "**Aluno: Danilo Henrique Achcar**<br/>\n",
        "**RM: 351516**"
      ],
      "metadata": {
        "id": "9Fb913rnQO1a"
      }
    },
    {
      "cell_type": "markdown",
      "source": [
        "# 1) Exploração inicial da base do PNAD COVID19 com Apache Spark"
      ],
      "metadata": {
        "id": "eY5fm3fgLbFH"
      }
    },
    {
      "cell_type": "markdown",
      "source": [
        "## 1.1) Instalando dependências"
      ],
      "metadata": {
        "id": "VwbOiX1sLjKn"
      }
    },
    {
      "cell_type": "code",
      "source": [
        "!pip install pyspark"
      ],
      "metadata": {
        "colab": {
          "base_uri": "https://localhost:8080/"
        },
        "id": "zJxhDhhPKpeF",
        "outputId": "27178975-b4a9-4dcf-d15b-aab648f308cb"
      },
      "execution_count": null,
      "outputs": [
        {
          "output_type": "stream",
          "name": "stdout",
          "text": [
            "Requirement already satisfied: pyspark in /usr/local/lib/python3.10/dist-packages (3.5.0)\n",
            "Requirement already satisfied: py4j==0.10.9.7 in /usr/local/lib/python3.10/dist-packages (from pyspark) (0.10.9.7)\n"
          ]
        }
      ]
    },
    {
      "cell_type": "markdown",
      "source": [
        "## 1.2) Apache Spark"
      ],
      "metadata": {
        "id": "OaTlXqhlLXO_"
      }
    },
    {
      "cell_type": "markdown",
      "source": [
        "### 1.2.1) Iniciando a sessão do Spark"
      ],
      "metadata": {
        "id": "hMANfuFJMLIY"
      }
    },
    {
      "cell_type": "code",
      "execution_count": null,
      "metadata": {
        "id": "1GnXDUtf6JWj",
        "colab": {
          "base_uri": "https://localhost:8080/",
          "height": 219
        },
        "outputId": "6cae5923-15a6-4492-b970-d64ca9d731d0"
      },
      "outputs": [
        {
          "output_type": "execute_result",
          "data": {
            "text/plain": [
              "<pyspark.sql.session.SparkSession at 0x7c51c8f4e620>"
            ],
            "text/html": [
              "\n",
              "            <div>\n",
              "                <p><b>SparkSession - in-memory</b></p>\n",
              "                \n",
              "        <div>\n",
              "            <p><b>SparkContext</b></p>\n",
              "\n",
              "            <p><a href=\"http://4b6e57fc799a:4040\">Spark UI</a></p>\n",
              "\n",
              "            <dl>\n",
              "              <dt>Version</dt>\n",
              "                <dd><code>v3.5.0</code></dd>\n",
              "              <dt>Master</dt>\n",
              "                <dd><code>local[*]</code></dd>\n",
              "              <dt>AppName</dt>\n",
              "                <dd><code>pyspark-shell</code></dd>\n",
              "            </dl>\n",
              "        </div>\n",
              "        \n",
              "            </div>\n",
              "        "
            ]
          },
          "metadata": {},
          "execution_count": 13
        }
      ],
      "source": [
        "from pyspark.sql import SparkSession\n",
        "\n",
        "spark = SparkSession.builder.master('local[*]').getOrCreate()\n",
        "spark.conf.set('spark.sql.repl.eagerEval.Enable', True)\n",
        "spark"
      ]
    },
    {
      "cell_type": "markdown",
      "source": [
        "### 1.2.2) Criando um validador de schema para as bases de dados\n",
        "Esta etapa tem como intuíto carregar as bases .csv, utilizando um schema pré-definido, de forma a validar automaticamente e realizar os devidos \"casts\" das colunas da base."
      ],
      "metadata": {
        "id": "FIHVgTSiMOhX"
      }
    },
    {
      "cell_type": "code",
      "source": [
        "from pyspark.sql.types import *\n",
        "\n",
        "# labels do schema para converter os valores do CSV corretamente\n",
        "labels = [\n",
        "  ('Ano', IntegerType()),\n",
        "  ('UF', IntegerType()),\n",
        "  ('CAPITAL', IntegerType()),\n",
        "  ('RM_RIDE', IntegerType()),\n",
        "  ('V1008', IntegerType()),\n",
        "  ('V1012', IntegerType()),\n",
        "  ('V1013', IntegerType()),\n",
        "  ('V1016', IntegerType()),\n",
        "  ('Estrato', IntegerType()),\n",
        "  ('UPA', IntegerType()),\n",
        "  ('V1022', IntegerType()),\n",
        "  ('V1023', IntegerType()),\n",
        "  ('V1030', IntegerType()),\n",
        "  ('V1031', DoubleType()),\n",
        "  ('V1032', DoubleType()),\n",
        "  ('posest', IntegerType()),\n",
        "  ('A001A', IntegerType()),\n",
        "  ('A001', IntegerType()),\n",
        "  ('A001B1', IntegerType()),\n",
        "  ('A001B2', IntegerType()),\n",
        "  ('A001B3', IntegerType()),\n",
        "  ('A002', IntegerType()),\n",
        "  ('A003', IntegerType()),\n",
        "  ('A004', IntegerType()),\n",
        "  ('A005', IntegerType()),\n",
        "  ('A006', IntegerType()),\n",
        "  ('A006A', IntegerType()),\n",
        "  ('A006B', IntegerType()),\n",
        "  ('A007', IntegerType()),\n",
        "  ('A007A', IntegerType()),\n",
        "  ('A008', IntegerType()),\n",
        "  ('A009', IntegerType()),\n",
        "  ('B0011', IntegerType()),\n",
        "  ('B0012', IntegerType()),\n",
        "  ('B0013', IntegerType()),\n",
        "  ('B0014', IntegerType()),\n",
        "  ('B0015', IntegerType()),\n",
        "  ('B0016', IntegerType()),\n",
        "  ('B0017', IntegerType()),\n",
        "  ('B0018', IntegerType()),\n",
        "  ('B0019', IntegerType()),\n",
        "  ('B00110', IntegerType()),\n",
        "  ('B00111', IntegerType()),\n",
        "  ('B00112', IntegerType()),\n",
        "  ('B00113', IntegerType()),\n",
        "  ('B002', IntegerType()),\n",
        "  ('B0031', IntegerType()),\n",
        "  ('B0032', IntegerType()),\n",
        "  ('B0033', IntegerType()),\n",
        "  ('B0034', IntegerType()),\n",
        "  ('B0035', IntegerType()),\n",
        "  ('B0036', IntegerType()),\n",
        "  ('B0037', IntegerType()),\n",
        "  ('B0041', IntegerType()),\n",
        "  ('B0042', IntegerType()),\n",
        "  ('B0043', IntegerType()),\n",
        "  ('B0044', IntegerType()),\n",
        "  ('B0045', IntegerType()),\n",
        "  ('B0046', IntegerType()),\n",
        "  ('B005', IntegerType()),\n",
        "  ('B006', IntegerType()),\n",
        "  ('B007', IntegerType()),\n",
        "  ('B008', IntegerType()),\n",
        "  ('B009A', IntegerType()),\n",
        "  ('B009B', IntegerType()),\n",
        "  ('B009C', IntegerType()),\n",
        "  ('B009D', IntegerType()),\n",
        "  ('B009E', IntegerType()),\n",
        "  ('B009F', IntegerType()),\n",
        "  ('B0101', IntegerType()),\n",
        "  ('B0102', IntegerType()),\n",
        "  ('B0103', IntegerType()),\n",
        "  ('B0104', IntegerType()),\n",
        "  ('B0105', IntegerType()),\n",
        "  ('B0106', IntegerType()),\n",
        "  ('B011', IntegerType()),\n",
        "  ('C001', IntegerType()),\n",
        "  ('C002', IntegerType()),\n",
        "  ('C003', IntegerType()),\n",
        "  ('C004', IntegerType()),\n",
        "  ('C005', IntegerType()),\n",
        "  ('C0051', IntegerType()),\n",
        "  ('C0052', IntegerType()),\n",
        "  ('C0053', IntegerType()),\n",
        "  ('C006', IntegerType()),\n",
        "  ('C007', IntegerType()),\n",
        "  ('C007A', IntegerType()),\n",
        "  ('C007B', IntegerType()),\n",
        "  ('C007C', IntegerType()),\n",
        "  ('C007D', IntegerType()),\n",
        "  ('C007E', IntegerType()),\n",
        "  ('C007E1', IntegerType()),\n",
        "  ('C007E2', IntegerType()),\n",
        "  ('C007F', IntegerType()),\n",
        "  ('C008', IntegerType()),\n",
        "  ('C009', IntegerType()),\n",
        "  ('C009A', IntegerType()),\n",
        "  ('C010', IntegerType()),\n",
        "  ('C0101', IntegerType()),\n",
        "  ('C01011', IntegerType()),\n",
        "  ('C01012', DoubleType()),\n",
        "  ('C0102', IntegerType()),\n",
        "  ('C01021', IntegerType()),\n",
        "  ('C01022', IntegerType()),\n",
        "  ('C0103', IntegerType()),\n",
        "  ('C0104', IntegerType()),\n",
        "  ('C011A', IntegerType()),\n",
        "  ('C011A1', IntegerType()),\n",
        "  ('C011A11', IntegerType()),\n",
        "  ('C011A12', DoubleType()),\n",
        "  ('C011A2', IntegerType()),\n",
        "  ('C011A21', IntegerType()),\n",
        "  ('C011A22', DoubleType()),\n",
        "  ('C012', IntegerType()),\n",
        "  ('C013', IntegerType()),\n",
        "  ('C014', IntegerType()),\n",
        "  ('C015', IntegerType()),\n",
        "  ('C016', IntegerType()),\n",
        "  ('C017A', IntegerType()),\n",
        "  ('D0011', IntegerType()),\n",
        "  ('D0013', DoubleType()),\n",
        "  ('D0021', IntegerType()),\n",
        "  ('D0023', DoubleType()),\n",
        "  ('D0031', IntegerType()),\n",
        "  ('D0033', DoubleType()),\n",
        "  ('D0041', IntegerType()),\n",
        "  ('D0043', DoubleType()),\n",
        "  ('D0051', IntegerType()),\n",
        "  ('D0053', DoubleType()),\n",
        "  ('D0061', IntegerType()),\n",
        "  ('D0063', DoubleType()),\n",
        "  ('D0071', IntegerType()),\n",
        "  ('D0073', DoubleType()),\n",
        "  ('E001', IntegerType()),\n",
        "  ('E0021', IntegerType()),\n",
        "  ('E0022', IntegerType()),\n",
        "  ('E0023', IntegerType()),\n",
        "  ('E0024', IntegerType()),\n",
        "  ('F001', IntegerType()),\n",
        "  ('F0021', DoubleType()),\n",
        "  ('F0022', IntegerType()),\n",
        "  ('F002A1', IntegerType()),\n",
        "  ('F002A2', IntegerType()),\n",
        "  ('F002A3', IntegerType()),\n",
        "  ('F002A4', IntegerType()),\n",
        "  ('F002A5', IntegerType()),\n",
        "  ('F0061', IntegerType()),\n",
        "  ('F006', IntegerType()),\n",
        "]"
      ],
      "metadata": {
        "id": "UM9QjrzYMKYf"
      },
      "execution_count": null,
      "outputs": []
    },
    {
      "cell_type": "code",
      "source": [
        "# schema para conversão\n",
        "schema = StructType([StructField(x[0], x[1], True) for x in labels])\n",
        "schema"
      ],
      "metadata": {
        "colab": {
          "base_uri": "https://localhost:8080/"
        },
        "id": "Ny46h5G8cKul",
        "outputId": "052ea20b-28de-4153-83b3-598a20dd6f59"
      },
      "execution_count": null,
      "outputs": [
        {
          "output_type": "execute_result",
          "data": {
            "text/plain": [
              "StructType([StructField('Ano', IntegerType(), True), StructField('UF', IntegerType(), True), StructField('CAPITAL', IntegerType(), True), StructField('RM_RIDE', IntegerType(), True), StructField('V1008', IntegerType(), True), StructField('V1012', IntegerType(), True), StructField('V1013', IntegerType(), True), StructField('V1016', IntegerType(), True), StructField('Estrato', IntegerType(), True), StructField('UPA', IntegerType(), True), StructField('V1022', IntegerType(), True), StructField('V1023', IntegerType(), True), StructField('V1030', IntegerType(), True), StructField('V1031', DoubleType(), True), StructField('V1032', DoubleType(), True), StructField('posest', IntegerType(), True), StructField('A001A', IntegerType(), True), StructField('A001', IntegerType(), True), StructField('A001B1', IntegerType(), True), StructField('A001B2', IntegerType(), True), StructField('A001B3', IntegerType(), True), StructField('A002', IntegerType(), True), StructField('A003', IntegerType(), True), StructField('A004', IntegerType(), True), StructField('A005', IntegerType(), True), StructField('A006', IntegerType(), True), StructField('A006A', IntegerType(), True), StructField('A006B', IntegerType(), True), StructField('A007', IntegerType(), True), StructField('A007A', IntegerType(), True), StructField('A008', IntegerType(), True), StructField('A009', IntegerType(), True), StructField('B0011', IntegerType(), True), StructField('B0012', IntegerType(), True), StructField('B0013', IntegerType(), True), StructField('B0014', IntegerType(), True), StructField('B0015', IntegerType(), True), StructField('B0016', IntegerType(), True), StructField('B0017', IntegerType(), True), StructField('B0018', IntegerType(), True), StructField('B0019', IntegerType(), True), StructField('B00110', IntegerType(), True), StructField('B00111', IntegerType(), True), StructField('B00112', IntegerType(), True), StructField('B00113', IntegerType(), True), StructField('B002', IntegerType(), True), StructField('B0031', IntegerType(), True), StructField('B0032', IntegerType(), True), StructField('B0033', IntegerType(), True), StructField('B0034', IntegerType(), True), StructField('B0035', IntegerType(), True), StructField('B0036', IntegerType(), True), StructField('B0037', IntegerType(), True), StructField('B0041', IntegerType(), True), StructField('B0042', IntegerType(), True), StructField('B0043', IntegerType(), True), StructField('B0044', IntegerType(), True), StructField('B0045', IntegerType(), True), StructField('B0046', IntegerType(), True), StructField('B005', IntegerType(), True), StructField('B006', IntegerType(), True), StructField('B007', IntegerType(), True), StructField('B008', IntegerType(), True), StructField('B009A', IntegerType(), True), StructField('B009B', IntegerType(), True), StructField('B009C', IntegerType(), True), StructField('B009D', IntegerType(), True), StructField('B009E', IntegerType(), True), StructField('B009F', IntegerType(), True), StructField('B0101', IntegerType(), True), StructField('B0102', IntegerType(), True), StructField('B0103', IntegerType(), True), StructField('B0104', IntegerType(), True), StructField('B0105', IntegerType(), True), StructField('B0106', IntegerType(), True), StructField('B011', IntegerType(), True), StructField('C001', IntegerType(), True), StructField('C002', IntegerType(), True), StructField('C003', IntegerType(), True), StructField('C004', IntegerType(), True), StructField('C005', IntegerType(), True), StructField('C0051', IntegerType(), True), StructField('C0052', IntegerType(), True), StructField('C0053', IntegerType(), True), StructField('C006', IntegerType(), True), StructField('C007', IntegerType(), True), StructField('C007A', IntegerType(), True), StructField('C007B', IntegerType(), True), StructField('C007C', IntegerType(), True), StructField('C007D', IntegerType(), True), StructField('C007E', IntegerType(), True), StructField('C007E1', IntegerType(), True), StructField('C007E2', IntegerType(), True), StructField('C007F', IntegerType(), True), StructField('C008', IntegerType(), True), StructField('C009', IntegerType(), True), StructField('C009A', IntegerType(), True), StructField('C010', IntegerType(), True), StructField('C0101', IntegerType(), True), StructField('C01011', IntegerType(), True), StructField('C01012', DoubleType(), True), StructField('C0102', IntegerType(), True), StructField('C01021', IntegerType(), True), StructField('C01022', IntegerType(), True), StructField('C0103', IntegerType(), True), StructField('C0104', IntegerType(), True), StructField('C011A', IntegerType(), True), StructField('C011A1', IntegerType(), True), StructField('C011A11', IntegerType(), True), StructField('C011A12', DoubleType(), True), StructField('C011A2', IntegerType(), True), StructField('C011A21', IntegerType(), True), StructField('C011A22', DoubleType(), True), StructField('C012', IntegerType(), True), StructField('C013', IntegerType(), True), StructField('C014', IntegerType(), True), StructField('C015', IntegerType(), True), StructField('C016', IntegerType(), True), StructField('C017A', IntegerType(), True), StructField('D0011', IntegerType(), True), StructField('D0013', DoubleType(), True), StructField('D0021', IntegerType(), True), StructField('D0023', DoubleType(), True), StructField('D0031', IntegerType(), True), StructField('D0033', DoubleType(), True), StructField('D0041', IntegerType(), True), StructField('D0043', DoubleType(), True), StructField('D0051', IntegerType(), True), StructField('D0053', DoubleType(), True), StructField('D0061', IntegerType(), True), StructField('D0063', DoubleType(), True), StructField('D0071', IntegerType(), True), StructField('D0073', DoubleType(), True), StructField('E001', IntegerType(), True), StructField('E0021', IntegerType(), True), StructField('E0022', IntegerType(), True), StructField('E0023', IntegerType(), True), StructField('E0024', IntegerType(), True), StructField('F001', IntegerType(), True), StructField('F0021', DoubleType(), True), StructField('F0022', IntegerType(), True), StructField('F002A1', IntegerType(), True), StructField('F002A2', IntegerType(), True), StructField('F002A3', IntegerType(), True), StructField('F002A4', IntegerType(), True), StructField('F002A5', IntegerType(), True), StructField('F0061', IntegerType(), True), StructField('F006', IntegerType(), True)])"
            ]
          },
          "metadata": {},
          "execution_count": 15
        }
      ]
    },
    {
      "cell_type": "markdown",
      "source": [
        "### 1.2.3) Lendo a base de dados de Setembro 2020"
      ],
      "metadata": {
        "id": "u2bnEh2vN-dX"
      }
    },
    {
      "cell_type": "markdown",
      "source": [
        "Neste momento, a validação das bases é feita de forma manual, portanto precisamos fazer o upload dos arquivos .csv no ambiente do Colabs."
      ],
      "metadata": {
        "id": "nV-S5UMaNY5f"
      }
    },
    {
      "cell_type": "code",
      "source": [
        "%%time\n",
        "df_set = spark.read.csv('/content/PNAD_COVID_092020.csv', header=True, sep=',', schema=schema)\n",
        "df_set.createOrReplaceTempView('df_set')\n",
        "df_set.show(5)\n",
        "print(f'Total registros set/2020: {df_set.count()}')"
      ],
      "metadata": {
        "colab": {
          "base_uri": "https://localhost:8080/"
        },
        "id": "pSc3FMGjKoCf",
        "outputId": "b6c456ab-91a2-48f5-dcb3-ef165ea67cc5"
      },
      "execution_count": null,
      "outputs": [
        {
          "output_type": "stream",
          "name": "stdout",
          "text": [
            "+----+---+-------+-------+-----+-----+-----+-----+-------+---------+-----+-----+------+------------+------------+------+-----+----+------+------+------+----+----+----+----+----+-----+-----+----+-----+----+----+-----+-----+-----+-----+-----+-----+-----+-----+-----+------+------+------+------+----+-----+-----+-----+-----+-----+-----+-----+-----+-----+-----+-----+-----+-----+----+----+----+----+-----+-----+-----+-----+-----+-----+-----+-----+-----+-----+-----+-----+----+----+----+----+----+----+-----+-----+-----+----+----+-----+-----+-----+-----+-----+------+------+-----+----+----+-----+----+-----+------+------+-----+------+------+-----+-----+-----+------+-------+-------+------+-------+-------+----+----+----+----+----+-----+-----+-----+-----+-----+-----+-----+-----+-----+-----+-----+-----+-----+-----+-----+----+-----+-----+-----+-----+----+-----+-----+------+------+------+------+------+-----+----+\n",
            "| Ano| UF|CAPITAL|RM_RIDE|V1008|V1012|V1013|V1016|Estrato|      UPA|V1022|V1023| V1030|       V1031|       V1032|posest|A001A|A001|A001B1|A001B2|A001B3|A002|A003|A004|A005|A006|A006A|A006B|A007|A007A|A008|A009|B0011|B0012|B0013|B0014|B0015|B0016|B0017|B0018|B0019|B00110|B00111|B00112|B00113|B002|B0031|B0032|B0033|B0034|B0035|B0036|B0037|B0041|B0042|B0043|B0044|B0045|B0046|B005|B006|B007|B008|B009A|B009B|B009C|B009D|B009E|B009F|B0101|B0102|B0103|B0104|B0105|B0106|B011|C001|C002|C003|C004|C005|C0051|C0052|C0053|C006|C007|C007A|C007B|C007C|C007D|C007E|C007E1|C007E2|C007F|C008|C009|C009A|C010|C0101|C01011|C01012|C0102|C01021|C01022|C0103|C0104|C011A|C011A1|C011A11|C011A12|C011A2|C011A21|C011A22|C012|C013|C014|C015|C016|C017A|D0011|D0013|D0021|D0023|D0031|D0033|D0041|D0043|D0051|D0053|D0061|D0063|D0071|D0073|E001|E0021|E0022|E0023|E0024|F001|F0021|F0022|F002A1|F002A2|F002A3|F002A4|F002A5|F0061|F006|\n",
            "+----+---+-------+-------+-----+-----+-----+-----+-------+---------+-----+-----+------+------------+------------+------+-----+----+------+------+------+----+----+----+----+----+-----+-----+----+-----+----+----+-----+-----+-----+-----+-----+-----+-----+-----+-----+------+------+------+------+----+-----+-----+-----+-----+-----+-----+-----+-----+-----+-----+-----+-----+-----+----+----+----+----+-----+-----+-----+-----+-----+-----+-----+-----+-----+-----+-----+-----+----+----+----+----+----+----+-----+-----+-----+----+----+-----+-----+-----+-----+-----+------+------+-----+----+----+-----+----+-----+------+------+-----+------+------+-----+-----+-----+------+-------+-------+------+-------+-------+----+----+----+----+----+-----+-----+-----+-----+-----+-----+-----+-----+-----+-----+-----+-----+-----+-----+-----+----+-----+-----+-----+-----+----+-----+-----+------+------+------+------+------+-----+----+\n",
            "|2020| 11|     11|   NULL|    1|    4|    9|    5|1110011|110015970|    1|    1|152677|133.93337786|164.20936068|  1114|    1|   1|     5|     8|  1984|  36|   1|   4|   5|NULL| NULL| NULL|NULL|    2|   2|   2|    2|    2|    2|    2|    2|    2|    2|    2|    2|     2|  NULL|  NULL|  NULL|NULL| NULL| NULL| NULL| NULL| NULL| NULL| NULL| NULL| NULL| NULL| NULL| NULL|    1|   2|NULL|NULL|NULL| NULL| NULL| NULL|    2|    2|    2|    2|    2|    2|    2|    1| NULL|NULL|NULL|NULL|NULL|NULL|NULL|    2|    4| NULL|   1|  35|    6| NULL| NULL| NULL| NULL|    48|    48| NULL|   1|   1|    4|1045| NULL|  NULL|  NULL| NULL|  NULL|     1|    1|    4| 1045|  NULL|   NULL|   NULL|     1|   NULL|   NULL|NULL|NULL|NULL|   2|NULL|    2| NULL|  2.0| NULL|  2.0| NULL|  1.0| 1200|  2.0| NULL|  2.0| NULL|  3.0| NULL| NULL|NULL| NULL|    1| NULL| NULL|   1|  1.0|    1|     2|     1|     1|     1|  NULL| NULL|NULL|\n",
            "|2020| 11|     11|   NULL|    1|    4|    9|    5|1110011|110015970|    1|    1|150642|133.93337786|166.94461021|  1124|    2|   2|    18|     8|  1990|  30|   2|   4|   7|NULL| NULL| NULL|NULL|    2|   2|   2|    2|    2|    2|    2|    2|    2|    2|    2|    2|     2|  NULL|  NULL|  NULL|NULL| NULL| NULL| NULL| NULL| NULL| NULL| NULL| NULL| NULL| NULL| NULL| NULL|    2|   2|NULL|NULL|NULL| NULL| NULL| NULL|    2|    2|    2|    2|    2|    2|    2|    1| NULL|NULL|NULL|NULL|NULL|NULL|NULL|    2|    7| NULL|NULL|  27|   20| NULL| NULL| NULL| NULL|    36|    36|    2|   1|   1|    4|1045| NULL|  NULL|  NULL| NULL|  NULL|     1|    1|    4| 1045|  NULL|   NULL|   NULL|     1|   NULL|    2.0|NULL|NULL|NULL|   2|NULL|    2| NULL|  2.0| NULL|  2.0| NULL|  1.0| 1200|  2.0| NULL|  2.0| NULL|  3.0| NULL| NULL|NULL| NULL|    1| NULL| NULL|   1|  1.0|    1|     2|     1|     1|     1|  NULL| NULL|NULL|\n",
            "|2020| 11|     11|   NULL|    1|    4|    9|    5|1110011|110015970|    1|    1|145237|133.93337786|171.88775372|  1112|    3|   4|    25|    12|  2006|  13|   1|   4|   2|   1|    1|    5|   3|    2|   2|   2|    2|    2|    2|    2|    2|    2|    2|    2|    2|     2|  NULL|  NULL|  NULL|NULL| NULL| NULL| NULL| NULL| NULL| NULL| NULL| NULL| NULL| NULL| NULL| NULL|    1|   2|NULL|NULL|NULL| NULL| NULL| NULL|    2|    2|    2|    2|    2|    2|    4| NULL| NULL|NULL|NULL|NULL|NULL|NULL|NULL| NULL| NULL| NULL|NULL|NULL| NULL| NULL| NULL| NULL| NULL|  NULL|  NULL| NULL|NULL|NULL| NULL|NULL| NULL|  NULL|  NULL| NULL|  NULL|  NULL| NULL| NULL| NULL|  NULL|   NULL|   NULL|  NULL|   NULL|   NULL|NULL|NULL|NULL|   2|NULL|    2| NULL|  2.0| NULL|  2.0| NULL|  1.0| 1200|  2.0| NULL|  2.0| NULL|  3.0| NULL| NULL|NULL| NULL|    1| NULL| NULL|   1|  1.0|    1|     2|     1|     1|     1|  NULL| NULL|NULL|\n",
            "|2020| 11|     11|   NULL|    1|    4|    9|    5|1110011|110015970|    1|    1|145237|133.93337786|171.88775372|  1112|    4|   4|    24|     8|  2009|  11|   1|   4|   2|   1|    1|    5|   3|    2|   2|   2|    2|    2|    2|    2|    2|    2|    2|    2|    2|     2|  NULL|  NULL|  NULL|NULL| NULL| NULL| NULL| NULL| NULL| NULL| NULL| NULL| NULL| NULL| NULL| NULL|    1|   2|NULL|NULL|NULL| NULL| NULL| NULL|    2|    2|    2|    2|    2|    2|    4| NULL| NULL|NULL|NULL|NULL|NULL|NULL|NULL| NULL| NULL| NULL|NULL|NULL| NULL| NULL| NULL| NULL| NULL|  NULL|  NULL| NULL|NULL|NULL| NULL|NULL| NULL|  NULL|  NULL| NULL|  NULL|  NULL| NULL| NULL| NULL|  NULL|   NULL|   NULL|  NULL|   NULL|   NULL|NULL|NULL|NULL|   2|NULL|    2| NULL|  2.0| NULL|  2.0| NULL|  1.0| 1200|  2.0| NULL|  2.0| NULL|  3.0| NULL| NULL|NULL| NULL|    1| NULL| NULL|   1|  1.0|    1|     2|     1|     1|     1|  NULL| NULL|NULL|\n",
            "|2020| 11|     11|   NULL|    2|    1|    9|    5|1110011|110015970|    1|    1| 91889|133.93337786|127.53668218|  1126|    1|   1|    18|     5|  1963|  57|   2|   1|   2|NULL| NULL| NULL|NULL|    2|   2|   2|    2|    2|    2|    2|    2|    2|    2|    2|    2|     2|  NULL|  NULL|  NULL|NULL| NULL| NULL| NULL| NULL| NULL| NULL| NULL| NULL| NULL| NULL| NULL| NULL|    2|   2|NULL|NULL|NULL| NULL| NULL| NULL|    2|    2|    2|    2|    2|    2|    2|    2|    2|NULL|NULL|NULL|NULL|NULL|NULL| NULL| NULL| NULL|NULL|NULL| NULL| NULL| NULL| NULL| NULL|  NULL|  NULL| NULL|NULL|NULL| NULL|NULL| NULL|  NULL|  NULL| NULL|  NULL|  NULL| NULL| NULL| NULL|  NULL|   NULL|   NULL|  NULL|   NULL|    2.0|   2|   1|   1|   2|NULL|    2| NULL|  2.0| NULL|  1.0| 1045|  2.0| NULL|  2.0| NULL|  2.0| NULL|  3.0| NULL| NULL|NULL| NULL|    1| NULL| NULL|   1|  1.0|    1|     2|     1|     1|     1|  NULL| NULL|NULL|\n",
            "+----+---+-------+-------+-----+-----+-----+-----+-------+---------+-----+-----+------+------------+------------+------+-----+----+------+------+------+----+----+----+----+----+-----+-----+----+-----+----+----+-----+-----+-----+-----+-----+-----+-----+-----+-----+------+------+------+------+----+-----+-----+-----+-----+-----+-----+-----+-----+-----+-----+-----+-----+-----+----+----+----+----+-----+-----+-----+-----+-----+-----+-----+-----+-----+-----+-----+-----+----+----+----+----+----+----+-----+-----+-----+----+----+-----+-----+-----+-----+-----+------+------+-----+----+----+-----+----+-----+------+------+-----+------+------+-----+-----+-----+------+-------+-------+------+-------+-------+----+----+----+----+----+-----+-----+-----+-----+-----+-----+-----+-----+-----+-----+-----+-----+-----+-----+-----+----+-----+-----+-----+-----+----+-----+-----+------+------+------+------+------+-----+----+\n",
            "only showing top 5 rows\n",
            "\n",
            "Total registros set/2020: 387298\n",
            "CPU times: user 17.1 ms, sys: 3.12 ms, total: 20.3 ms\n",
            "Wall time: 1.26 s\n"
          ]
        }
      ]
    },
    {
      "cell_type": "markdown",
      "source": [
        "### 1.2.4) Lendo a base de dados de Outubro 2020"
      ],
      "metadata": {
        "id": "oZ2lXeLcOJzv"
      }
    },
    {
      "cell_type": "code",
      "source": [
        "%%time\n",
        "df_out = spark.read.csv('/content/PNAD_COVID_102020.csv', header=True, sep=',', schema=schema)\n",
        "df_out.createOrReplaceTempView('df_out')\n",
        "df_out.show(5)\n",
        "print(f'Total registros out/2020: {df_out.count()}')"
      ],
      "metadata": {
        "colab": {
          "base_uri": "https://localhost:8080/"
        },
        "id": "LVfqbelKLwLv",
        "outputId": "df6b2751-76dd-481f-9089-b79845f8a5d4"
      },
      "execution_count": null,
      "outputs": [
        {
          "output_type": "stream",
          "name": "stdout",
          "text": [
            "+----+---+-------+-------+-----+-----+-----+-----+-------+---------+-----+-----+------+------------+------------+------+-----+----+------+------+------+----+----+----+----+----+-----+-----+----+-----+----+----+-----+-----+-----+-----+-----+-----+-----+-----+-----+------+------+------+------+----+-----+-----+-----+-----+-----+-----+-----+-----+-----+-----+-----+-----+-----+----+----+----+----+-----+-----+-----+-----+-----+-----+-----+-----+-----+-----+-----+-----+----+----+----+----+----+----+-----+-----+-----+----+----+-----+-----+-----+-----+-----+------+------+-----+----+----+-----+----+-----+------+------+-----+------+------+-----+-----+-----+------+-------+-------+------+-------+-------+----+----+----+----+----+-----+-----+-----+-----+-----+-----+-----+-----+-----+-----+-----+-----+-----+-----+-----+----+-----+-----+-----+-----+----+-----+-----+------+------+------+------+------+-----+----+\n",
            "| Ano| UF|CAPITAL|RM_RIDE|V1008|V1012|V1013|V1016|Estrato|      UPA|V1022|V1023| V1030|       V1031|       V1032|posest|A001A|A001|A001B1|A001B2|A001B3|A002|A003|A004|A005|A006|A006A|A006B|A007|A007A|A008|A009|B0011|B0012|B0013|B0014|B0015|B0016|B0017|B0018|B0019|B00110|B00111|B00112|B00113|B002|B0031|B0032|B0033|B0034|B0035|B0036|B0037|B0041|B0042|B0043|B0044|B0045|B0046|B005|B006|B007|B008|B009A|B009B|B009C|B009D|B009E|B009F|B0101|B0102|B0103|B0104|B0105|B0106|B011|C001|C002|C003|C004|C005|C0051|C0052|C0053|C006|C007|C007A|C007B|C007C|C007D|C007E|C007E1|C007E2|C007F|C008|C009|C009A|C010|C0101|C01011|C01012|C0102|C01021|C01022|C0103|C0104|C011A|C011A1|C011A11|C011A12|C011A2|C011A21|C011A22|C012|C013|C014|C015|C016|C017A|D0011|D0013|D0021|D0023|D0031|D0033|D0041|D0043|D0051|D0053|D0061|D0063|D0071|D0073|E001|E0021|E0022|E0023|E0024|F001|F0021|F0022|F002A1|F002A2|F002A3|F002A4|F002A5|F0061|F006|\n",
            "+----+---+-------+-------+-----+-----+-----+-----+-------+---------+-----+-----+------+------------+------------+------+-----+----+------+------+------+----+----+----+----+----+-----+-----+----+-----+----+----+-----+-----+-----+-----+-----+-----+-----+-----+-----+------+------+------+------+----+-----+-----+-----+-----+-----+-----+-----+-----+-----+-----+-----+-----+-----+----+----+----+----+-----+-----+-----+-----+-----+-----+-----+-----+-----+-----+-----+-----+----+----+----+----+----+----+-----+-----+-----+----+----+-----+-----+-----+-----+-----+------+------+-----+----+----+-----+----+-----+------+------+-----+------+------+-----+-----+-----+------+-------+-------+------+-------+-------+----+----+----+----+----+-----+-----+-----+-----+-----+-----+-----+-----+-----+-----+-----+-----+-----+-----+-----+----+-----+-----+-----+-----+----+-----+-----+------+------+------+------+------+-----+----+\n",
            "|2020| 11|     11|   NULL|    1|    4|   10|    6|1110011|110015970|    1|    1|152790|122.75397639| 143.7459631|  1114|    1|   1|     5|     8|  1984|  36|   1|   4|   5|NULL| NULL| NULL|NULL|    2|   2|   2|    2|    2|    2|    2|    2|    2|    2|    2|    2|     2|  NULL|  NULL|  NULL|NULL| NULL| NULL| NULL| NULL| NULL| NULL| NULL| NULL| NULL| NULL| NULL| NULL|    1|   2|NULL|NULL|NULL| NULL| NULL| NULL|    2|    2|    2|    2|    2|    2|    2|    1| NULL|NULL|NULL|NULL|NULL|NULL|NULL|    2|    4| NULL|   1|  35|    6| NULL| NULL| NULL| NULL|    48|    48| NULL|   1|   1|    4|1045| NULL|  NULL|  NULL| NULL|  NULL|     1|    1|    4| 1045|  NULL|   NULL|   NULL|     1|   NULL|   NULL|NULL|NULL|NULL|   2|NULL|    2| NULL|  2.0| NULL|  2.0| NULL|  1.0| 1200|  2.0| NULL|  2.0| NULL|  3.0| NULL| NULL|NULL| NULL|    1| NULL| NULL|   1|  1.0|    1|     2|     1|     1|     1|  NULL| NULL|NULL|\n",
            "|2020| 11|     11|   NULL|    1|    4|   10|    6|1110011|110015970|    1|    1|150739|122.75397639|148.52050973|  1124|    2|   2|    18|     8|  1990|  30|   2|   4|   7|NULL| NULL| NULL|NULL|    2|   2|   2|    2|    2|    2|    2|    2|    2|    2|    2|    2|     2|  NULL|  NULL|  NULL|NULL| NULL| NULL| NULL| NULL| NULL| NULL| NULL| NULL| NULL| NULL| NULL| NULL|    2|   2|NULL|NULL|NULL| NULL| NULL| NULL|    2|    2|    2|    2|    2|    2|    2|    1| NULL|NULL|NULL|NULL|NULL|NULL|NULL|    2|    7| NULL|NULL|  27|   20| NULL| NULL| NULL| NULL|    36|    36|    2|   1|   1|    4|1045| NULL|  NULL|  NULL| NULL|  NULL|     1|    1|    4| 1045|  NULL|   NULL|   NULL|     1|   NULL|    2.0|NULL|NULL|NULL|   2|NULL|    2| NULL|  2.0| NULL|  2.0| NULL|  1.0| 1200|  2.0| NULL|  2.0| NULL|  3.0| NULL| NULL|NULL| NULL|    1| NULL| NULL|   1|  1.0|    1|     2|     1|     1|     1|  NULL| NULL|NULL|\n",
            "|2020| 11|     11|   NULL|    1|    4|   10|    6|1110011|110015970|    1|    1|144993|122.75397639|158.31081955|  1112|    3|   4|    25|    12|  2006|  13|   1|   4|   2|   1|    1|    5|   3|    2|   2|   2|    2|    2|    2|    2|    2|    2|    2|    2|    2|     2|  NULL|  NULL|  NULL|NULL| NULL| NULL| NULL| NULL| NULL| NULL| NULL| NULL| NULL| NULL| NULL| NULL|    1|   2|NULL|NULL|NULL| NULL| NULL| NULL|    2|    2|    2|    2|    2|    2|    4| NULL| NULL|NULL|NULL|NULL|NULL|NULL|NULL| NULL| NULL| NULL|NULL|NULL| NULL| NULL| NULL| NULL| NULL|  NULL|  NULL| NULL|NULL|NULL| NULL|NULL| NULL|  NULL|  NULL| NULL|  NULL|  NULL| NULL| NULL| NULL|  NULL|   NULL|   NULL|  NULL|   NULL|   NULL|NULL|NULL|NULL|   2|NULL|    2| NULL|  2.0| NULL|  2.0| NULL|  1.0| 1200|  2.0| NULL|  2.0| NULL|  3.0| NULL| NULL|NULL| NULL|    1| NULL| NULL|   1|  1.0|    1|     2|     1|     1|     1|  NULL| NULL|NULL|\n",
            "|2020| 11|     11|   NULL|    1|    4|   10|    6|1110011|110015970|    1|    1|144993|122.75397639|158.31081955|  1112|    4|   4|    24|     8|  2009|  11|   1|   4|   2|   1|    1|    5|   3|    2|   2|   2|    2|    2|    2|    2|    2|    2|    2|    2|    2|     2|  NULL|  NULL|  NULL|NULL| NULL| NULL| NULL| NULL| NULL| NULL| NULL| NULL| NULL| NULL| NULL| NULL|    1|   2|NULL|NULL|NULL| NULL| NULL| NULL|    2|    2|    2|    2|    2|    2|    4| NULL| NULL|NULL|NULL|NULL|NULL|NULL|NULL| NULL| NULL| NULL|NULL|NULL| NULL| NULL| NULL| NULL| NULL|  NULL|  NULL| NULL|NULL|NULL| NULL|NULL| NULL|  NULL|  NULL| NULL|  NULL|  NULL| NULL| NULL| NULL|  NULL|   NULL|   NULL|  NULL|   NULL|   NULL|NULL|NULL|NULL|   2|NULL|    2| NULL|  2.0| NULL|  2.0| NULL|  1.0| 1200|  2.0| NULL|  2.0| NULL|  3.0| NULL| NULL|NULL| NULL|    1| NULL| NULL|   1|  1.0|    1|     2|     1|     1|     1|  NULL| NULL|NULL|\n",
            "|2020| 11|     11|   NULL|    2|    1|   10|    6|1110011|110015970|    1|    1| 92130|122.75397639| 123.6186403|  1126|    1|   1|    18|     5|  1963|  57|   2|   1|   2|NULL| NULL| NULL|NULL|    2|   2|   2|    2|    2|    2|    2|    2|    2|    2|    2|    2|     2|  NULL|  NULL|  NULL|NULL| NULL| NULL| NULL| NULL| NULL| NULL| NULL| NULL| NULL| NULL| NULL| NULL|    2|   2|NULL|NULL|NULL| NULL| NULL| NULL|    2|    2|    2|    2|    2|    2|    3|    2|    2|NULL|NULL|NULL|NULL|NULL|NULL| NULL| NULL| NULL|NULL|NULL| NULL| NULL| NULL| NULL| NULL|  NULL|  NULL| NULL|NULL|NULL| NULL|NULL| NULL|  NULL|  NULL| NULL|  NULL|  NULL| NULL| NULL| NULL|  NULL|   NULL|   NULL|  NULL|   NULL|    2.0|   2|   1|   1|   2|NULL|    2| NULL|  2.0| NULL|  1.0| 1045|  2.0| NULL|  2.0| NULL|  2.0| NULL|  3.0| NULL| NULL|NULL| NULL|    1| NULL| NULL|   1|  1.0|    1|     2|     1|     1|     1|  NULL| NULL|NULL|\n",
            "+----+---+-------+-------+-----+-----+-----+-----+-------+---------+-----+-----+------+------------+------------+------+-----+----+------+------+------+----+----+----+----+----+-----+-----+----+-----+----+----+-----+-----+-----+-----+-----+-----+-----+-----+-----+------+------+------+------+----+-----+-----+-----+-----+-----+-----+-----+-----+-----+-----+-----+-----+-----+----+----+----+----+-----+-----+-----+-----+-----+-----+-----+-----+-----+-----+-----+-----+----+----+----+----+----+----+-----+-----+-----+----+----+-----+-----+-----+-----+-----+------+------+-----+----+----+-----+----+-----+------+------+-----+------+------+-----+-----+-----+------+-------+-------+------+-------+-------+----+----+----+----+----+-----+-----+-----+-----+-----+-----+-----+-----+-----+-----+-----+-----+-----+-----+-----+----+-----+-----+-----+-----+----+-----+-----+------+------+------+------+------+-----+----+\n",
            "only showing top 5 rows\n",
            "\n",
            "Total registros out/2020: 380461\n",
            "CPU times: user 19.3 ms, sys: 1.33 ms, total: 20.6 ms\n",
            "Wall time: 1.06 s\n"
          ]
        }
      ]
    },
    {
      "cell_type": "markdown",
      "source": [
        "### 1.2.5) Lendo a base de dados de Novembro 2020"
      ],
      "metadata": {
        "id": "Z78Ih4e9OMgP"
      }
    },
    {
      "cell_type": "code",
      "source": [
        "%%time\n",
        "df_nov = spark.read.csv('/content/PNAD_COVID_112020.csv', header=True, sep=',', schema=schema)\n",
        "df_nov.createOrReplaceTempView('df_nov')\n",
        "df_nov.show(5)\n",
        "print(f'Total registros nov/2020: {df_nov.count()}')"
      ],
      "metadata": {
        "colab": {
          "base_uri": "https://localhost:8080/"
        },
        "id": "yG89m4LnMB_m",
        "outputId": "334e9bee-5fae-45c8-c3a3-bb0adcaab600"
      },
      "execution_count": null,
      "outputs": [
        {
          "output_type": "stream",
          "name": "stdout",
          "text": [
            "+----+---+-------+-------+-----+-----+-----+-----+-------+---------+-----+-----+------+------------+------------+------+-----+----+------+------+------+----+----+----+----+----+-----+-----+----+-----+----+----+-----+-----+-----+-----+-----+-----+-----+-----+-----+------+------+------+------+----+-----+-----+-----+-----+-----+-----+-----+-----+-----+-----+-----+-----+-----+----+----+----+----+-----+-----+-----+-----+-----+-----+-----+-----+-----+-----+-----+-----+----+----+----+----+----+----+-----+-----+-----+----+----+-----+-----+-----+-----+-----+------+------+-----+----+----+-----+----+-----+------+------+-----+------+------+-----+-----+-----+------+-------+-------+------+-------+-------+----+----+----+----+----+-----+-----+-----+-----+-----+-----+-----+-----+------+-----+-----+-----+-----+-----+-----+----+-----+-----+-----+-----+----+-----+-----+------+------+------+------+------+-----+----+\n",
            "| Ano| UF|CAPITAL|RM_RIDE|V1008|V1012|V1013|V1016|Estrato|      UPA|V1022|V1023| V1030|       V1031|       V1032|posest|A001A|A001|A001B1|A001B2|A001B3|A002|A003|A004|A005|A006|A006A|A006B|A007|A007A|A008|A009|B0011|B0012|B0013|B0014|B0015|B0016|B0017|B0018|B0019|B00110|B00111|B00112|B00113|B002|B0031|B0032|B0033|B0034|B0035|B0036|B0037|B0041|B0042|B0043|B0044|B0045|B0046|B005|B006|B007|B008|B009A|B009B|B009C|B009D|B009E|B009F|B0101|B0102|B0103|B0104|B0105|B0106|B011|C001|C002|C003|C004|C005|C0051|C0052|C0053|C006|C007|C007A|C007B|C007C|C007D|C007E|C007E1|C007E2|C007F|C008|C009|C009A|C010|C0101|C01011|C01012|C0102|C01021|C01022|C0103|C0104|C011A|C011A1|C011A11|C011A12|C011A2|C011A21|C011A22|C012|C013|C014|C015|C016|C017A|D0011|D0013|D0021|D0023|D0031|D0033|D0041| D0043|D0051|D0053|D0061|D0063|D0071|D0073|E001|E0021|E0022|E0023|E0024|F001|F0021|F0022|F002A1|F002A2|F002A3|F002A4|F002A5|F0061|F006|\n",
            "+----+---+-------+-------+-----+-----+-----+-----+-------+---------+-----+-----+------+------------+------------+------+-----+----+------+------+------+----+----+----+----+----+-----+-----+----+-----+----+----+-----+-----+-----+-----+-----+-----+-----+-----+-----+------+------+------+------+----+-----+-----+-----+-----+-----+-----+-----+-----+-----+-----+-----+-----+-----+----+----+----+----+-----+-----+-----+-----+-----+-----+-----+-----+-----+-----+-----+-----+----+----+----+----+----+----+-----+-----+-----+----+----+-----+-----+-----+-----+-----+------+------+-----+----+----+-----+----+-----+------+------+-----+------+------+-----+-----+-----+------+-------+-------+------+-------+-------+----+----+----+----+----+-----+-----+-----+-----+-----+-----+-----+-----+------+-----+-----+-----+-----+-----+-----+----+-----+-----+-----+-----+----+-----+-----+------+------+------+------+------+-----+----+\n",
            "|2020| 11|     11|   NULL|    1|    4|   11|    7|1110011|110015970|    1|    1|152902|101.01170275|117.46371855|  1114|    1|   1|     5|     8|  1984|  36|   1|   4|   5|NULL| NULL| NULL|NULL| NULL|NULL|NULL|    2|    2|    2|    2|    2|    2|    2|    2|    2|     2|     2|     2|     2|NULL| NULL| NULL| NULL| NULL| NULL| NULL| NULL| NULL| NULL| NULL| NULL| NULL| NULL|NULL|NULL|   1|   2| NULL| NULL| NULL| NULL| NULL| NULL|    2|    2|    2|    2|    2|    2|   2|   1|NULL|NULL|NULL|NULL| NULL| NULL| NULL|   2|   4| NULL|    1|   35|    6| NULL|  NULL|  NULL| NULL|  48|  48| NULL|   1|    1|     4|1045.0| NULL|  NULL|  NULL| NULL| NULL|    1|     1|      4| 1045.0|  NULL|   NULL|   NULL|   1|NULL|NULL|NULL|NULL| NULL|    2| NULL|    2| NULL|    2| NULL|    2|  NULL|    1|600.0|    2| NULL|    2| NULL|   3| NULL| NULL| NULL| NULL|   1| NULL| NULL|     1|     1|     1|     2|     1|    1|   1|\n",
            "|2020| 11|     11|   NULL|    1|    4|   11|    7|1110011|110015970|    1|    1|150835|101.01170275|125.75120197|  1124|    2|   2|    18|     8|  1990|  30|   2|   4|   7|NULL| NULL| NULL|NULL| NULL|NULL|NULL|    2|    2|    2|    2|    2|    2|    2|    2|    2|     2|     2|     2|     2|NULL| NULL| NULL| NULL| NULL| NULL| NULL| NULL| NULL| NULL| NULL| NULL| NULL| NULL|NULL|NULL|   2|   2| NULL| NULL| NULL| NULL| NULL| NULL|    2|    2|    2|    2|    2|    2|   2|   1|NULL|NULL|NULL|NULL| NULL| NULL| NULL|   2|   7| NULL| NULL|   27|   20| NULL|  NULL|  NULL| NULL|  36|  36|    2|   1|    1|     4|1045.0| NULL|  NULL|  NULL| NULL| NULL|    1|     1|      4| 1045.0|  NULL|   NULL|   NULL|   1|NULL|   2|NULL|NULL| NULL|    2| NULL|    2| NULL|    2| NULL|    2|  NULL|    1|600.0|    2| NULL|    2| NULL|   3| NULL| NULL| NULL| NULL|   1| NULL| NULL|     1|     1|     1|     2|     1|    1|   1|\n",
            "|2020| 11|     11|   NULL|    1|    4|   11|    7|1110011|110015970|    1|    1|144737|101.01170275|131.36101755|  1112|    3|   4|    25|    12|  2006|  13|   1|   4|   2|   1|    1|    3|   1| NULL|   5|   3|    2|    2|    2|    2|    2|    2|    2|    2|    2|     2|     2|     2|     2|NULL| NULL| NULL| NULL| NULL| NULL| NULL| NULL| NULL| NULL| NULL| NULL| NULL| NULL|NULL|NULL|   1|   2| NULL| NULL| NULL| NULL| NULL| NULL|    2|    2|    2|    2|    2|    2|   4|NULL|NULL|NULL|NULL|NULL| NULL| NULL| NULL|NULL|NULL| NULL| NULL| NULL| NULL| NULL|  NULL|  NULL| NULL|NULL|NULL| NULL|NULL| NULL|  NULL|  NULL| NULL|  NULL|  NULL| NULL| NULL| NULL|  NULL|   NULL|   NULL|  NULL|   NULL|   NULL|NULL|NULL|NULL|NULL|NULL| NULL|    2| NULL|    2| NULL|    2| NULL|    2|  NULL|    1|600.0|    2| NULL|    2| NULL|   3| NULL| NULL| NULL| NULL|   1| NULL| NULL|     1|     1|     1|     2|     1|    1|   1|\n",
            "|2020| 11|     11|   NULL|    1|    4|   11|    7|1110011|110015970|    1|    1|144737|101.01170275|131.36101755|  1112|    4|   4|    24|     8|  2009|  11|   1|   4|   2|   1|    1|    3|   1| NULL|   5|   3|    2|    2|    2|    2|    2|    2|    2|    2|    2|     2|     2|     2|     2|NULL| NULL| NULL| NULL| NULL| NULL| NULL| NULL| NULL| NULL| NULL| NULL| NULL| NULL|NULL|NULL|   1|   2| NULL| NULL| NULL| NULL| NULL| NULL|    2|    2|    2|    2|    2|    2|   4|NULL|NULL|NULL|NULL|NULL| NULL| NULL| NULL|NULL|NULL| NULL| NULL| NULL| NULL| NULL|  NULL|  NULL| NULL|NULL|NULL| NULL|NULL| NULL|  NULL|  NULL| NULL|  NULL|  NULL| NULL| NULL| NULL|  NULL|   NULL|   NULL|  NULL|   NULL|   NULL|NULL|NULL|NULL|NULL|NULL| NULL|    2| NULL|    2| NULL|    2| NULL|    2|  NULL|    1|600.0|    2| NULL|    2| NULL|   3| NULL| NULL| NULL| NULL|   1| NULL| NULL|     1|     1|     1|     2|     1|    1|   1|\n",
            "|2020| 11|     11|   NULL|    2|    1|   11|    7|1110011|110015970|    1|    1| 92377|101.01170275|100.73351653|  1126|    1|   1|    18|     5|  1963|  57|   2|   1|   2|NULL| NULL| NULL|NULL| NULL|NULL|NULL|    2|    2|    2|    2|    2|    2|    2|    2|    2|     2|     2|     2|     2|NULL| NULL| NULL| NULL| NULL| NULL| NULL| NULL| NULL| NULL| NULL| NULL| NULL| NULL|NULL|NULL|   2|   2| NULL| NULL| NULL| NULL| NULL| NULL|    2|    2|    2|    2|    2|    2|   2|   2|   2|NULL|NULL|NULL| NULL| NULL| NULL|NULL|NULL| NULL| NULL| NULL| NULL| NULL|  NULL|  NULL| NULL|NULL|NULL| NULL|NULL| NULL|  NULL|  NULL| NULL|  NULL|  NULL| NULL| NULL| NULL|  NULL|   NULL|   NULL|  NULL|   NULL|   NULL|NULL|NULL|   2|   2|   1|    1|    2| NULL|    2| NULL|    2| NULL|    1|1045.0|    2| NULL|    2| NULL|    2| NULL|   3| NULL| NULL| NULL| NULL|   1| NULL| NULL|     1|     1|     1|     2|     1|    1|   1|\n",
            "+----+---+-------+-------+-----+-----+-----+-----+-------+---------+-----+-----+------+------------+------------+------+-----+----+------+------+------+----+----+----+----+----+-----+-----+----+-----+----+----+-----+-----+-----+-----+-----+-----+-----+-----+-----+------+------+------+------+----+-----+-----+-----+-----+-----+-----+-----+-----+-----+-----+-----+-----+-----+----+----+----+----+-----+-----+-----+-----+-----+-----+-----+-----+-----+-----+-----+-----+----+----+----+----+----+----+-----+-----+-----+----+----+-----+-----+-----+-----+-----+------+------+-----+----+----+-----+----+-----+------+------+-----+------+------+-----+-----+-----+------+-------+-------+------+-------+-------+----+----+----+----+----+-----+-----+-----+-----+-----+-----+-----+-----+------+-----+-----+-----+-----+-----+-----+----+-----+-----+-----+-----+----+-----+-----+------+------+------+------+------+-----+----+\n",
            "only showing top 5 rows\n",
            "\n",
            "Total registros nov/2020: 381438\n",
            "CPU times: user 15 ms, sys: 2.55 ms, total: 17.6 ms\n",
            "Wall time: 1 s\n"
          ]
        }
      ]
    },
    {
      "cell_type": "code",
      "source": [
        "# verificando se o schema processado é o schema que foi definido de fato\n",
        "df_nov.printSchema()"
      ],
      "metadata": {
        "colab": {
          "base_uri": "https://localhost:8080/"
        },
        "id": "J5IL3R50MEDW",
        "outputId": "318f924b-fd70-43d6-b7aa-beb92cf9e105"
      },
      "execution_count": null,
      "outputs": [
        {
          "output_type": "stream",
          "name": "stdout",
          "text": [
            "root\n",
            " |-- Ano: integer (nullable = true)\n",
            " |-- UF: integer (nullable = true)\n",
            " |-- CAPITAL: integer (nullable = true)\n",
            " |-- RM_RIDE: integer (nullable = true)\n",
            " |-- V1008: integer (nullable = true)\n",
            " |-- V1012: integer (nullable = true)\n",
            " |-- V1013: integer (nullable = true)\n",
            " |-- V1016: integer (nullable = true)\n",
            " |-- Estrato: integer (nullable = true)\n",
            " |-- UPA: integer (nullable = true)\n",
            " |-- V1022: integer (nullable = true)\n",
            " |-- V1023: integer (nullable = true)\n",
            " |-- V1030: integer (nullable = true)\n",
            " |-- V1031: double (nullable = true)\n",
            " |-- V1032: double (nullable = true)\n",
            " |-- posest: integer (nullable = true)\n",
            " |-- A001A: integer (nullable = true)\n",
            " |-- A001: integer (nullable = true)\n",
            " |-- A001B1: integer (nullable = true)\n",
            " |-- A001B2: integer (nullable = true)\n",
            " |-- A001B3: integer (nullable = true)\n",
            " |-- A002: integer (nullable = true)\n",
            " |-- A003: integer (nullable = true)\n",
            " |-- A004: integer (nullable = true)\n",
            " |-- A005: integer (nullable = true)\n",
            " |-- A006: integer (nullable = true)\n",
            " |-- A006A: integer (nullable = true)\n",
            " |-- A006B: integer (nullable = true)\n",
            " |-- A007: integer (nullable = true)\n",
            " |-- A007A: integer (nullable = true)\n",
            " |-- A008: integer (nullable = true)\n",
            " |-- A009: integer (nullable = true)\n",
            " |-- B0011: integer (nullable = true)\n",
            " |-- B0012: integer (nullable = true)\n",
            " |-- B0013: integer (nullable = true)\n",
            " |-- B0014: integer (nullable = true)\n",
            " |-- B0015: integer (nullable = true)\n",
            " |-- B0016: integer (nullable = true)\n",
            " |-- B0017: integer (nullable = true)\n",
            " |-- B0018: integer (nullable = true)\n",
            " |-- B0019: integer (nullable = true)\n",
            " |-- B00110: integer (nullable = true)\n",
            " |-- B00111: integer (nullable = true)\n",
            " |-- B00112: integer (nullable = true)\n",
            " |-- B00113: integer (nullable = true)\n",
            " |-- B002: integer (nullable = true)\n",
            " |-- B0031: integer (nullable = true)\n",
            " |-- B0032: integer (nullable = true)\n",
            " |-- B0033: integer (nullable = true)\n",
            " |-- B0034: integer (nullable = true)\n",
            " |-- B0035: integer (nullable = true)\n",
            " |-- B0036: integer (nullable = true)\n",
            " |-- B0037: integer (nullable = true)\n",
            " |-- B0041: integer (nullable = true)\n",
            " |-- B0042: integer (nullable = true)\n",
            " |-- B0043: integer (nullable = true)\n",
            " |-- B0044: integer (nullable = true)\n",
            " |-- B0045: integer (nullable = true)\n",
            " |-- B0046: integer (nullable = true)\n",
            " |-- B005: integer (nullable = true)\n",
            " |-- B006: integer (nullable = true)\n",
            " |-- B007: integer (nullable = true)\n",
            " |-- B008: integer (nullable = true)\n",
            " |-- B009A: integer (nullable = true)\n",
            " |-- B009B: integer (nullable = true)\n",
            " |-- B009C: integer (nullable = true)\n",
            " |-- B009D: integer (nullable = true)\n",
            " |-- B009E: integer (nullable = true)\n",
            " |-- B009F: integer (nullable = true)\n",
            " |-- B0101: integer (nullable = true)\n",
            " |-- B0102: integer (nullable = true)\n",
            " |-- B0103: integer (nullable = true)\n",
            " |-- B0104: integer (nullable = true)\n",
            " |-- B0105: integer (nullable = true)\n",
            " |-- B0106: integer (nullable = true)\n",
            " |-- B011: integer (nullable = true)\n",
            " |-- C001: integer (nullable = true)\n",
            " |-- C002: integer (nullable = true)\n",
            " |-- C003: integer (nullable = true)\n",
            " |-- C004: integer (nullable = true)\n",
            " |-- C005: integer (nullable = true)\n",
            " |-- C0051: integer (nullable = true)\n",
            " |-- C0052: integer (nullable = true)\n",
            " |-- C0053: integer (nullable = true)\n",
            " |-- C006: integer (nullable = true)\n",
            " |-- C007: integer (nullable = true)\n",
            " |-- C007A: integer (nullable = true)\n",
            " |-- C007B: integer (nullable = true)\n",
            " |-- C007C: integer (nullable = true)\n",
            " |-- C007D: integer (nullable = true)\n",
            " |-- C007E: integer (nullable = true)\n",
            " |-- C007E1: integer (nullable = true)\n",
            " |-- C007E2: integer (nullable = true)\n",
            " |-- C007F: integer (nullable = true)\n",
            " |-- C008: integer (nullable = true)\n",
            " |-- C009: integer (nullable = true)\n",
            " |-- C009A: integer (nullable = true)\n",
            " |-- C010: integer (nullable = true)\n",
            " |-- C0101: integer (nullable = true)\n",
            " |-- C01011: integer (nullable = true)\n",
            " |-- C01012: double (nullable = true)\n",
            " |-- C0102: integer (nullable = true)\n",
            " |-- C01021: integer (nullable = true)\n",
            " |-- C01022: integer (nullable = true)\n",
            " |-- C0103: integer (nullable = true)\n",
            " |-- C0104: integer (nullable = true)\n",
            " |-- C011A: integer (nullable = true)\n",
            " |-- C011A1: integer (nullable = true)\n",
            " |-- C011A11: integer (nullable = true)\n",
            " |-- C011A12: double (nullable = true)\n",
            " |-- C011A2: integer (nullable = true)\n",
            " |-- C011A21: integer (nullable = true)\n",
            " |-- C011A22: double (nullable = true)\n",
            " |-- C012: integer (nullable = true)\n",
            " |-- C013: integer (nullable = true)\n",
            " |-- C014: integer (nullable = true)\n",
            " |-- C015: integer (nullable = true)\n",
            " |-- C016: integer (nullable = true)\n",
            " |-- C017A: integer (nullable = true)\n",
            " |-- D0011: integer (nullable = true)\n",
            " |-- D0013: double (nullable = true)\n",
            " |-- D0021: integer (nullable = true)\n",
            " |-- D0023: double (nullable = true)\n",
            " |-- D0031: integer (nullable = true)\n",
            " |-- D0033: double (nullable = true)\n",
            " |-- D0041: integer (nullable = true)\n",
            " |-- D0043: double (nullable = true)\n",
            " |-- D0051: integer (nullable = true)\n",
            " |-- D0053: double (nullable = true)\n",
            " |-- D0061: integer (nullable = true)\n",
            " |-- D0063: double (nullable = true)\n",
            " |-- D0071: integer (nullable = true)\n",
            " |-- D0073: double (nullable = true)\n",
            " |-- E001: integer (nullable = true)\n",
            " |-- E0021: integer (nullable = true)\n",
            " |-- E0022: integer (nullable = true)\n",
            " |-- E0023: integer (nullable = true)\n",
            " |-- E0024: integer (nullable = true)\n",
            " |-- F001: integer (nullable = true)\n",
            " |-- F0021: double (nullable = true)\n",
            " |-- F0022: integer (nullable = true)\n",
            " |-- F002A1: integer (nullable = true)\n",
            " |-- F002A2: integer (nullable = true)\n",
            " |-- F002A3: integer (nullable = true)\n",
            " |-- F002A4: integer (nullable = true)\n",
            " |-- F002A5: integer (nullable = true)\n",
            " |-- F0061: integer (nullable = true)\n",
            " |-- F006: integer (nullable = true)\n",
            "\n"
          ]
        }
      ]
    },
    {
      "cell_type": "markdown",
      "source": [
        "### 1.2.6) Checando os totais de cada base de dados"
      ],
      "metadata": {
        "id": "OufmEkepOSEp"
      }
    },
    {
      "cell_type": "code",
      "source": [
        "# totais de cada base de dados\n",
        "total_set = df_set.count()\n",
        "total_out = df_out.count()\n",
        "total_nov = df_nov.count()\n",
        "total = total_set + total_out + total_nov\n",
        "\n",
        "print('Total de registros set/2020', total_set)\n",
        "print('Total de registros out/2020', total_out)\n",
        "print('Total de registros nov/2020', total_nov)\n",
        "print('Total de registros', total)"
      ],
      "metadata": {
        "colab": {
          "base_uri": "https://localhost:8080/"
        },
        "id": "JFwAQFxWYQ0P",
        "outputId": "f6c3ea26-5114-47dd-e980-80569069ef14"
      },
      "execution_count": null,
      "outputs": [
        {
          "output_type": "stream",
          "name": "stdout",
          "text": [
            "Total de registros set/2020 387298\n",
            "Total de registros out/2020 380461\n",
            "Total de registros nov/2020 381438\n",
            "Total de registros 1149197\n"
          ]
        }
      ]
    },
    {
      "cell_type": "markdown",
      "source": [
        "### 1.2.7) Verificando se a quantidade de registros bate após a união das 3 bases numa consolidada"
      ],
      "metadata": {
        "id": "djEzCHFwOa5I"
      }
    },
    {
      "cell_type": "code",
      "source": [
        "%%time\n",
        "df = df_set.union(df_out).union(df_nov)\n",
        "df.count()"
      ],
      "metadata": {
        "colab": {
          "base_uri": "https://localhost:8080/"
        },
        "id": "DqSsBE59hwIJ",
        "outputId": "501fe13d-4d66-49eb-ca84-dd2309224306"
      },
      "execution_count": null,
      "outputs": [
        {
          "output_type": "stream",
          "name": "stdout",
          "text": [
            "CPU times: user 15.6 ms, sys: 1.97 ms, total: 17.6 ms\n",
            "Wall time: 2.29 s\n"
          ]
        },
        {
          "output_type": "execute_result",
          "data": {
            "text/plain": [
              "1149197"
            ]
          },
          "metadata": {},
          "execution_count": 41
        }
      ]
    },
    {
      "cell_type": "markdown",
      "source": [
        "### 1.2.8) Verificando se existem registros duplicados"
      ],
      "metadata": {
        "id": "LJjR4hOkQsq_"
      }
    },
    {
      "cell_type": "code",
      "source": [
        "%%time\n",
        "df_deduplicated = df.dropDuplicates()\n",
        "df_deduplicated.count()"
      ],
      "metadata": {
        "colab": {
          "base_uri": "https://localhost:8080/"
        },
        "id": "HwC9TBJ2m1n4",
        "outputId": "6b6bb613-a1e2-4756-90b5-329d7405743a"
      },
      "execution_count": null,
      "outputs": [
        {
          "output_type": "stream",
          "name": "stdout",
          "text": [
            "CPU times: user 573 ms, sys: 56.8 ms, total: 630 ms\n",
            "Wall time: 1min 36s\n"
          ]
        },
        {
          "output_type": "execute_result",
          "data": {
            "text/plain": [
              "1149197"
            ]
          },
          "metadata": {},
          "execution_count": 42
        }
      ]
    },
    {
      "cell_type": "code",
      "source": [
        "# exporta a base de dados para CSV, para utilização futura\n",
        "df.write.csv('dados_tratados')"
      ],
      "metadata": {
        "id": "pyJxFaain06p"
      },
      "execution_count": null,
      "outputs": []
    },
    {
      "cell_type": "code",
      "source": [
        "# teste da base exportada\n",
        "df = spark.read.csv('dados_tratados', header=True, schema=schema)\n",
        "df.count()"
      ],
      "metadata": {
        "colab": {
          "base_uri": "https://localhost:8080/"
        },
        "id": "EE_l4mNAoc-a",
        "outputId": "c62d7d44-6909-43a0-e036-990eea94c30b"
      },
      "execution_count": null,
      "outputs": [
        {
          "output_type": "execute_result",
          "data": {
            "text/plain": [
              "1149191"
            ]
          },
          "metadata": {},
          "execution_count": 44
        }
      ]
    },
    {
      "cell_type": "code",
      "source": [
        "df.show(5)"
      ],
      "metadata": {
        "colab": {
          "base_uri": "https://localhost:8080/"
        },
        "id": "oCF3b7GIo1w6",
        "outputId": "66fd31fa-56b1-463c-ee51-d99d98e963e3"
      },
      "execution_count": null,
      "outputs": [
        {
          "output_type": "stream",
          "name": "stdout",
          "text": [
            "+----+---+-------+-------+-----+-----+-----+-----+-------+---------+-----+-----+------+------------+------------+------+-----+----+------+------+------+----+----+----+----+----+-----+-----+----+-----+----+----+-----+-----+-----+-----+-----+-----+-----+-----+-----+------+------+------+------+----+-----+-----+-----+-----+-----+-----+-----+-----+-----+-----+-----+-----+-----+----+----+----+----+-----+-----+-----+-----+-----+-----+-----+-----+-----+-----+-----+-----+----+----+----+----+----+----+-----+-----+-----+----+----+-----+-----+-----+-----+-----+------+------+-----+----+----+-----+----+-----+------+------+-----+------+------+-----+-----+-----+------+-------+-------+------+-------+-------+----+----+----+----+----+-----+-----+-----+-----+-----+-----+-----+-----+-----+-----+-----+-----+-----+-----+-----+----+-----+-----+-----+-----+----+-----+-----+------+------+------+------+------+-----+----+\n",
            "| Ano| UF|CAPITAL|RM_RIDE|V1008|V1012|V1013|V1016|Estrato|      UPA|V1022|V1023| V1030|       V1031|       V1032|posest|A001A|A001|A001B1|A001B2|A001B3|A002|A003|A004|A005|A006|A006A|A006B|A007|A007A|A008|A009|B0011|B0012|B0013|B0014|B0015|B0016|B0017|B0018|B0019|B00110|B00111|B00112|B00113|B002|B0031|B0032|B0033|B0034|B0035|B0036|B0037|B0041|B0042|B0043|B0044|B0045|B0046|B005|B006|B007|B008|B009A|B009B|B009C|B009D|B009E|B009F|B0101|B0102|B0103|B0104|B0105|B0106|B011|C001|C002|C003|C004|C005|C0051|C0052|C0053|C006|C007|C007A|C007B|C007C|C007D|C007E|C007E1|C007E2|C007F|C008|C009|C009A|C010|C0101|C01011|C01012|C0102|C01021|C01022|C0103|C0104|C011A|C011A1|C011A11|C011A12|C011A2|C011A21|C011A22|C012|C013|C014|C015|C016|C017A|D0011|D0013|D0021|D0023|D0031|D0033|D0041|D0043|D0051|D0053|D0061|D0063|D0071|D0073|E001|E0021|E0022|E0023|E0024|F001|F0021|F0022|F002A1|F002A2|F002A3|F002A4|F002A5|F0061|F006|\n",
            "+----+---+-------+-------+-----+-----+-----+-----+-------+---------+-----+-----+------+------------+------------+------+-----+----+------+------+------+----+----+----+----+----+-----+-----+----+-----+----+----+-----+-----+-----+-----+-----+-----+-----+-----+-----+------+------+------+------+----+-----+-----+-----+-----+-----+-----+-----+-----+-----+-----+-----+-----+-----+----+----+----+----+-----+-----+-----+-----+-----+-----+-----+-----+-----+-----+-----+-----+----+----+----+----+----+----+-----+-----+-----+----+----+-----+-----+-----+-----+-----+------+------+-----+----+----+-----+----+-----+------+------+-----+------+------+-----+-----+-----+------+-------+-------+------+-------+-------+----+----+----+----+----+-----+-----+-----+-----+-----+-----+-----+-----+-----+-----+-----+-----+-----+-----+-----+----+-----+-----+-----+-----+----+-----+-----+------+------+------+------+------+-----+----+\n",
            "|2020| 11|     11|   NULL|    1|    4|    9|    5|1110011|110015970|    1|    1|150642|133.93337786|166.94461021|  1124|    2|   2|    18|     8|  1990|  30|   2|   4|   7|NULL| NULL| NULL|NULL|    2|   2|   2|    2|    2|    2|    2|    2|    2|    2|    2|    2|     2|  NULL|  NULL|  NULL|NULL| NULL| NULL| NULL| NULL| NULL| NULL| NULL| NULL| NULL| NULL| NULL| NULL|    2|   2|NULL|NULL|NULL| NULL| NULL| NULL|    2|    2|    2|    2|    2|    2|    2|    1| NULL|NULL|NULL|NULL|NULL|NULL|NULL|    2|    7| NULL|NULL|  27|   20| NULL| NULL| NULL| NULL|    36|    36|    2|   1|   1|    4|1045| NULL|  NULL|  NULL| NULL|  NULL|     1|    1|    4| 1045|  NULL|   NULL|   NULL|     1|   NULL|    2.0|NULL|NULL|NULL|   2|NULL|    2| NULL|  2.0| NULL|  2.0| NULL|  1.0| 1200|  2.0| NULL|  2.0| NULL|  3.0| NULL| NULL|NULL| NULL|    1| NULL| NULL|   1|  1.0|    1|     2|     1|     1|     1|  NULL| NULL|NULL|\n",
            "|2020| 11|     11|   NULL|    1|    4|    9|    5|1110011|110015970|    1|    1|145237|133.93337786|171.88775372|  1112|    3|   4|    25|    12|  2006|  13|   1|   4|   2|   1|    1|    5|   3|    2|   2|   2|    2|    2|    2|    2|    2|    2|    2|    2|    2|     2|  NULL|  NULL|  NULL|NULL| NULL| NULL| NULL| NULL| NULL| NULL| NULL| NULL| NULL| NULL| NULL| NULL|    1|   2|NULL|NULL|NULL| NULL| NULL| NULL|    2|    2|    2|    2|    2|    2|    4| NULL| NULL|NULL|NULL|NULL|NULL|NULL|NULL| NULL| NULL| NULL|NULL|NULL| NULL| NULL| NULL| NULL| NULL|  NULL|  NULL| NULL|NULL|NULL| NULL|NULL| NULL|  NULL|  NULL| NULL|  NULL|  NULL| NULL| NULL| NULL|  NULL|   NULL|   NULL|  NULL|   NULL|   NULL|NULL|NULL|NULL|   2|NULL|    2| NULL|  2.0| NULL|  2.0| NULL|  1.0| 1200|  2.0| NULL|  2.0| NULL|  3.0| NULL| NULL|NULL| NULL|    1| NULL| NULL|   1|  1.0|    1|     2|     1|     1|     1|  NULL| NULL|NULL|\n",
            "|2020| 11|     11|   NULL|    1|    4|    9|    5|1110011|110015970|    1|    1|145237|133.93337786|171.88775372|  1112|    4|   4|    24|     8|  2009|  11|   1|   4|   2|   1|    1|    5|   3|    2|   2|   2|    2|    2|    2|    2|    2|    2|    2|    2|    2|     2|  NULL|  NULL|  NULL|NULL| NULL| NULL| NULL| NULL| NULL| NULL| NULL| NULL| NULL| NULL| NULL| NULL|    1|   2|NULL|NULL|NULL| NULL| NULL| NULL|    2|    2|    2|    2|    2|    2|    4| NULL| NULL|NULL|NULL|NULL|NULL|NULL|NULL| NULL| NULL| NULL|NULL|NULL| NULL| NULL| NULL| NULL| NULL|  NULL|  NULL| NULL|NULL|NULL| NULL|NULL| NULL|  NULL|  NULL| NULL|  NULL|  NULL| NULL| NULL| NULL|  NULL|   NULL|   NULL|  NULL|   NULL|   NULL|NULL|NULL|NULL|   2|NULL|    2| NULL|  2.0| NULL|  2.0| NULL|  1.0| 1200|  2.0| NULL|  2.0| NULL|  3.0| NULL| NULL|NULL| NULL|    1| NULL| NULL|   1|  1.0|    1|     2|     1|     1|     1|  NULL| NULL|NULL|\n",
            "|2020| 11|     11|   NULL|    2|    1|    9|    5|1110011|110015970|    1|    1| 91889|133.93337786|127.53668218|  1126|    1|   1|    18|     5|  1963|  57|   2|   1|   2|NULL| NULL| NULL|NULL|    2|   2|   2|    2|    2|    2|    2|    2|    2|    2|    2|    2|     2|  NULL|  NULL|  NULL|NULL| NULL| NULL| NULL| NULL| NULL| NULL| NULL| NULL| NULL| NULL| NULL| NULL|    2|   2|NULL|NULL|NULL| NULL| NULL| NULL|    2|    2|    2|    2|    2|    2|    2|    2|    2|NULL|NULL|NULL|NULL|NULL|NULL| NULL| NULL| NULL|NULL|NULL| NULL| NULL| NULL| NULL| NULL|  NULL|  NULL| NULL|NULL|NULL| NULL|NULL| NULL|  NULL|  NULL| NULL|  NULL|  NULL| NULL| NULL| NULL|  NULL|   NULL|   NULL|  NULL|   NULL|    2.0|   2|   1|   1|   2|NULL|    2| NULL|  2.0| NULL|  1.0| 1045|  2.0| NULL|  2.0| NULL|  2.0| NULL|  3.0| NULL| NULL|NULL| NULL|    1| NULL| NULL|   1|  1.0|    1|     2|     1|     1|     1|  NULL| NULL|NULL|\n",
            "|2020| 11|     11|   NULL|    3|    2|    9|    5|1110011|110015970|    1|    1| 91889|133.93337786|127.53668218|  1126|    1|   1|    25|    12|  1961|  58|   2|   2|   1|NULL| NULL| NULL|NULL|    2|   2|   2|    2|    2|    2|    2|    2|    2|    2|    2|    2|     2|  NULL|  NULL|  NULL|NULL| NULL| NULL| NULL| NULL| NULL| NULL| NULL| NULL| NULL| NULL| NULL| NULL|    2|   2|NULL|NULL|NULL| NULL| NULL| NULL|    1|    1|    2|    2|    2|    2|    3|    1| NULL|NULL|NULL|NULL|NULL|NULL|NULL|    2|    7| NULL|NULL|  36|   25| NULL| NULL| NULL| NULL|    40|    40| NULL|   1|   1|    0| 100| NULL|  NULL|  NULL| NULL|  NULL|     1|    1|    0|   60|  NULL|   NULL|   NULL|     1|   NULL|    2.0|NULL|NULL|NULL|   1|1045|    2| NULL|  2.0| NULL|  2.0| NULL|  2.0| NULL|  2.0| NULL|  2.0| NULL|  3.0| NULL| NULL|NULL| NULL|    1| NULL| NULL|   1|  1.0|    1|     2|     1|     1|     1|  NULL| NULL|NULL|\n",
            "+----+---+-------+-------+-----+-----+-----+-----+-------+---------+-----+-----+------+------------+------------+------+-----+----+------+------+------+----+----+----+----+----+-----+-----+----+-----+----+----+-----+-----+-----+-----+-----+-----+-----+-----+-----+------+------+------+------+----+-----+-----+-----+-----+-----+-----+-----+-----+-----+-----+-----+-----+-----+----+----+----+----+-----+-----+-----+-----+-----+-----+-----+-----+-----+-----+-----+-----+----+----+----+----+----+----+-----+-----+-----+----+----+-----+-----+-----+-----+-----+------+------+-----+----+----+-----+----+-----+------+------+-----+------+------+-----+-----+-----+------+-------+-------+------+-------+-------+----+----+----+----+----+-----+-----+-----+-----+-----+-----+-----+-----+-----+-----+-----+-----+-----+-----+-----+----+-----+-----+-----+-----+----+-----+-----+------+------+------+------+------+-----+----+\n",
            "only showing top 5 rows\n",
            "\n"
          ]
        }
      ]
    }
  ]
}